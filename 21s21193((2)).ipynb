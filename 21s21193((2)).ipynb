{
  "nbformat": 4,
  "nbformat_minor": 0,
  "metadata": {
    "colab": {
      "provenance": []
    },
    "kernelspec": {
      "name": "python3",
      "display_name": "Python 3"
    },
    "language_info": {
      "name": "python"
    }
  },
  "cells": [
    {
      "cell_type": "code",
      "execution_count": null,
      "metadata": {
        "colab": {
          "base_uri": "https://localhost:8080/"
        },
        "id": "X4_RAHbcjggA",
        "outputId": "3b2fd810-2afb-4705-b043-de1d280dccce"
      },
      "outputs": [
        {
          "output_type": "stream",
          "name": "stdout",
          "text": [
            "Mounted at /content/drive\n"
          ]
        }
      ],
      "source": [
        "#My dataset is available in googledrive; so I am accessing my drive from colab\n",
        "from google.colab import drive\n",
        "drive.mount('/content/drive', force_remount=True)\n",
        "#Once this is executed, you will see your drive appearing on the left hand side"
      ]
    },
    {
      "cell_type": "code",
      "source": [
        "\n",
        "# Define paths to the dataset\n",
        "train_dir = '/content/drive/MyDrive/train-cat-rabbit'  # Update with your actual path\n",
        "test_dir = '/content/drive/MyDrive/test-images'    # Update with your actual path"
      ],
      "metadata": {
        "id": "JlCp9DEKjyl8"
      },
      "execution_count": null,
      "outputs": []
    },
    {
      "cell_type": "code",
      "source": [
        "import os\n",
        "print(len(os.listdir('/content/drive/MyDrive/train-cat-rabbit')))\n",
        "print(len(os.listdir('/content/drive/MyDrive/train-cat-rabbit')))\n",
        "print(len(os.listdir('/content/drive/MyDrive/test-images')))\n",
        "print(len(os.listdir('/content/drive/MyDrive/test-images')))"
      ],
      "metadata": {
        "colab": {
          "base_uri": "https://localhost:8080/"
        },
        "id": "v-B2NG3bj4Me",
        "outputId": "1364af84-88d3-472d-d1eb-c879688d7040"
      },
      "execution_count": null,
      "outputs": [
        {
          "output_type": "stream",
          "name": "stdout",
          "text": [
            "2\n",
            "2\n",
            "2\n",
            "2\n"
          ]
        }
      ]
    },
    {
      "cell_type": "code",
      "source": [
        "import tensorflow as tf\n",
        "from tensorflow.keras.preprocessing.image import ImageDataGenerator\n",
        "\n",
        "# Create ImageDataGenerator for training set\n",
        "train_datagen = ImageDataGenerator(\n",
        "    rescale=1./255,\n",
        "    validation_split=0.2  # Split 20% of the images for validation\n",
        ")\n",
        "\n",
        "# Load and prepare training data\n",
        "train_data = train_datagen.flow_from_directory(\n",
        "    train_dir,\n",
        "    target_size=(256,256),\n",
        "    batch_size=32,\n",
        "    class_mode='binary',  # 'binary' for binary classification (cats vs. dogs)\n",
        "    subset='training'  # Specify 'training' for the training set\n",
        ")\n",
        "\n",
        "# Create ImageDataGenerator for validation set\n",
        "validation_datagen = ImageDataGenerator(\n",
        "    rescale=1./255,\n",
        "    validation_split=0.2  # Note: Using the same validation split as in the training set\n",
        ")\n",
        "\n",
        "# Load and prepare validation data\n",
        "validation_data = validation_datagen.flow_from_directory(\n",
        "    train_dir,\n",
        "    target_size=(256,256),\n",
        "    batch_size=32,\n",
        "    class_mode='binary',\n",
        "    subset='validation'  # Specify 'validation' for the validation set\n",
        ")"
      ],
      "metadata": {
        "colab": {
          "base_uri": "https://localhost:8080/"
        },
        "id": "3oZ-UwKgj9ek",
        "outputId": "dfec1a4f-a765-424d-d608-572ee66b63d9"
      },
      "execution_count": null,
      "outputs": [
        {
          "output_type": "stream",
          "name": "stdout",
          "text": [
            "Found 1280 images belonging to 2 classes.\n",
            "Found 320 images belonging to 2 classes.\n"
          ]
        }
      ]
    },
    {
      "cell_type": "code",
      "source": [
        "from tensorflow import keras\n",
        "from keras import Sequential\n",
        "from keras.layers import Dense,Conv2D,MaxPooling2D,Flatten,BatchNormalization,UpSampling2D, Dropout\n"
      ],
      "metadata": {
        "id": "NZgtQOKSkGrP"
      },
      "execution_count": null,
      "outputs": []
    },
    {
      "cell_type": "code",
      "source": [
        "# create CNN model\n",
        "\n",
        "model = Sequential()\n",
        "\n",
        "model.add(Conv2D(32,kernel_size=(3,3),padding='valid',activation='relu',input_shape=(256,256,3)))  # 32 filters\n",
        "#model.add(BatchNormalization())  # added to reduce overfitting\n",
        "model.add(MaxPooling2D(pool_size=(2,2),strides=2,padding='valid'))\n",
        "\n",
        "model.add(Conv2D(64,kernel_size=(3,3),padding='valid',activation='relu'))\n",
        "#model.add(BatchNormalization())  # added to reduce overfitting\n",
        "model.add(MaxPooling2D(pool_size=(2,2),strides=2,padding='valid'))\n",
        "\n",
        "model.add(Conv2D(128,kernel_size=(3,3),padding='valid',activation='relu'))\n",
        "#model.add(BatchNormalization())  # added to reduce overfitting\n",
        "model.add(MaxPooling2D(pool_size=(2,2),strides=2,padding='valid'))\n",
        "\n",
        "model.add(Flatten())\n",
        "\n",
        "model.add(Dense(128,activation='relu')) #feature reduction\n",
        "#model.add(Dropout(0.1))  # added to reduce overfitting\n",
        "model.add(Dense(64,activation='relu'))\n",
        "#model.add(Dropout(0.1))  # added to reduce overfitting\n",
        "model.add(Dense(1,activation='sigmoid'))  #output layer"
      ],
      "metadata": {
        "id": "ub2RGNxGkMLE"
      },
      "execution_count": null,
      "outputs": []
    },
    {
      "cell_type": "code",
      "source": [
        "from keras.optimizers import Adam\n",
        "model.compile(optimizer=Adam(learning_rate=0.001),loss='binary_crossentropy',metrics=['accuracy']) #binary_crossentropy - binary classification\n"
      ],
      "metadata": {
        "id": "6qYS5i7fkVa3"
      },
      "execution_count": null,
      "outputs": []
    },
    {
      "cell_type": "code",
      "source": [
        "from tensorflow import keras\n",
        "from keras import Sequential\n",
        "from keras.layers import Dense,Conv2D,MaxPooling2D,Flatten\n",
        "\n",
        "resnet_model = Sequential()    #ResNet50 is a pre-trained model\n",
        "pretrained_model = tf.keras.applications.ResNet50(include_top = False, #because i have my own image of a diff dimension\n",
        "                                                input_shape = (256,256,3),\n",
        "                                                pooling = 'max', classes = 2,\n",
        "                                                weights = 'imagenet')\n",
        "for layer in pretrained_model.layers:\n",
        "    layer.trainable = False  #all layers in the Resnet50 is not trainable; keep those weights; I am going to add my own i/p and other layers\n",
        "\n",
        "resnet_model.add(pretrained_model)\n",
        "resnet_model.add(Flatten())\n",
        "resnet_model.add(Dense(512, activation = 'relu'))\n",
        "resnet_model.add(Dense(1, activation = 'sigmoid'))\n"
      ],
      "metadata": {
        "colab": {
          "base_uri": "https://localhost:8080/"
        },
        "id": "n77NiCkp0ZYo",
        "outputId": "87f9ac98-bbbf-45b8-cfcd-7872458a5fef"
      },
      "execution_count": 10,
      "outputs": [
        {
          "output_type": "stream",
          "name": "stdout",
          "text": [
            "Downloading data from https://storage.googleapis.com/tensorflow/keras-applications/resnet/resnet50_weights_tf_dim_ordering_tf_kernels_notop.h5\n",
            "94765736/94765736 [==============================] - 1s 0us/step\n"
          ]
        }
      ]
    },
    {
      "cell_type": "code",
      "source": [
        "resnet_model.summary()"
      ],
      "metadata": {
        "colab": {
          "base_uri": "https://localhost:8080/"
        },
        "id": "s6JwkcTo0ha7",
        "outputId": "ad94b66e-0461-4542-d133-851e7de9f43f"
      },
      "execution_count": 11,
      "outputs": [
        {
          "output_type": "stream",
          "name": "stdout",
          "text": [
            "Model: \"sequential_1\"\n",
            "_________________________________________________________________\n",
            " Layer (type)                Output Shape              Param #   \n",
            "=================================================================\n",
            " resnet50 (Functional)       (None, 2048)              23587712  \n",
            "                                                                 \n",
            " flatten_1 (Flatten)         (None, 2048)              0         \n",
            "                                                                 \n",
            " dense_3 (Dense)             (None, 512)               1049088   \n",
            "                                                                 \n",
            " dense_4 (Dense)             (None, 1)                 513       \n",
            "                                                                 \n",
            "=================================================================\n",
            "Total params: 24637313 (93.98 MB)\n",
            "Trainable params: 1049601 (4.00 MB)\n",
            "Non-trainable params: 23587712 (89.98 MB)\n",
            "_________________________________________________________________\n"
          ]
        }
      ]
    },
    {
      "cell_type": "code",
      "source": [
        "from keras.optimizers import Adam\n",
        "resnet_model.compile(optimizer=Adam(learning_rate=0.001),loss='binary_crossentropy',metrics=['accuracy']) #binary_crossentropy - binary classification"
      ],
      "metadata": {
        "id": "dKO7FYCI0rZk"
      },
      "execution_count": 12,
      "outputs": []
    },
    {
      "cell_type": "code",
      "source": [
        "history = model.fit(train_data, epochs=30, validation_data=validation_data)"
      ],
      "metadata": {
        "colab": {
          "base_uri": "https://localhost:8080/"
        },
        "id": "G1I6cwxA2xnR",
        "outputId": "8fe8ee21-7e2b-484b-8df9-8b7118511b6f"
      },
      "execution_count": 15,
      "outputs": [
        {
          "output_type": "stream",
          "name": "stdout",
          "text": [
            "Epoch 1/30\n",
            "40/40 [==============================] - 240s 6s/step - loss: 4.9948e-05 - accuracy: 1.0000 - val_loss: 0.6470 - val_accuracy: 0.9281\n",
            "Epoch 2/30\n",
            "40/40 [==============================] - 240s 6s/step - loss: 4.0380e-05 - accuracy: 1.0000 - val_loss: 0.6555 - val_accuracy: 0.9281\n",
            "Epoch 3/30\n",
            "40/40 [==============================] - 241s 6s/step - loss: 3.2764e-05 - accuracy: 1.0000 - val_loss: 0.6612 - val_accuracy: 0.9281\n",
            "Epoch 4/30\n",
            "40/40 [==============================] - 242s 6s/step - loss: 2.7407e-05 - accuracy: 1.0000 - val_loss: 0.6668 - val_accuracy: 0.9281\n",
            "Epoch 5/30\n",
            "40/40 [==============================] - 252s 6s/step - loss: 2.3976e-05 - accuracy: 1.0000 - val_loss: 0.6722 - val_accuracy: 0.9281\n",
            "Epoch 6/30\n",
            "40/40 [==============================] - 245s 6s/step - loss: 2.1273e-05 - accuracy: 1.0000 - val_loss: 0.6764 - val_accuracy: 0.9281\n",
            "Epoch 7/30\n",
            "40/40 [==============================] - 254s 6s/step - loss: 1.8923e-05 - accuracy: 1.0000 - val_loss: 0.6823 - val_accuracy: 0.9281\n",
            "Epoch 8/30\n",
            "40/40 [==============================] - 238s 6s/step - loss: 1.6835e-05 - accuracy: 1.0000 - val_loss: 0.6874 - val_accuracy: 0.9281\n",
            "Epoch 9/30\n",
            "40/40 [==============================] - 249s 6s/step - loss: 1.5273e-05 - accuracy: 1.0000 - val_loss: 0.6895 - val_accuracy: 0.9281\n",
            "Epoch 10/30\n",
            "40/40 [==============================] - 259s 7s/step - loss: 1.3920e-05 - accuracy: 1.0000 - val_loss: 0.6965 - val_accuracy: 0.9281\n",
            "Epoch 11/30\n",
            "40/40 [==============================] - 256s 6s/step - loss: 1.2773e-05 - accuracy: 1.0000 - val_loss: 0.6984 - val_accuracy: 0.9281\n",
            "Epoch 12/30\n",
            "40/40 [==============================] - 251s 6s/step - loss: 1.1749e-05 - accuracy: 1.0000 - val_loss: 0.7028 - val_accuracy: 0.9281\n",
            "Epoch 13/30\n",
            "40/40 [==============================] - 239s 6s/step - loss: 1.0885e-05 - accuracy: 1.0000 - val_loss: 0.7063 - val_accuracy: 0.9281\n",
            "Epoch 14/30\n",
            "40/40 [==============================] - 229s 6s/step - loss: 1.0097e-05 - accuracy: 1.0000 - val_loss: 0.7113 - val_accuracy: 0.9281\n",
            "Epoch 15/30\n",
            "40/40 [==============================] - 228s 6s/step - loss: 9.3950e-06 - accuracy: 1.0000 - val_loss: 0.7140 - val_accuracy: 0.9281\n",
            "Epoch 16/30\n",
            "40/40 [==============================] - 214s 5s/step - loss: 8.7577e-06 - accuracy: 1.0000 - val_loss: 0.7164 - val_accuracy: 0.9281\n",
            "Epoch 17/30\n",
            "40/40 [==============================] - 229s 6s/step - loss: 8.1749e-06 - accuracy: 1.0000 - val_loss: 0.7218 - val_accuracy: 0.9281\n",
            "Epoch 18/30\n",
            "40/40 [==============================] - 242s 6s/step - loss: 7.6808e-06 - accuracy: 1.0000 - val_loss: 0.7234 - val_accuracy: 0.9281\n",
            "Epoch 19/30\n",
            "40/40 [==============================] - 235s 6s/step - loss: 7.2239e-06 - accuracy: 1.0000 - val_loss: 0.7258 - val_accuracy: 0.9281\n",
            "Epoch 20/30\n",
            "40/40 [==============================] - 246s 6s/step - loss: 6.8084e-06 - accuracy: 1.0000 - val_loss: 0.7304 - val_accuracy: 0.9281\n",
            "Epoch 21/30\n",
            "40/40 [==============================] - 244s 6s/step - loss: 6.4185e-06 - accuracy: 1.0000 - val_loss: 0.7339 - val_accuracy: 0.9281\n",
            "Epoch 22/30\n",
            "40/40 [==============================] - 250s 6s/step - loss: 6.0691e-06 - accuracy: 1.0000 - val_loss: 0.7352 - val_accuracy: 0.9281\n",
            "Epoch 23/30\n",
            "40/40 [==============================] - 238s 6s/step - loss: 5.7626e-06 - accuracy: 1.0000 - val_loss: 0.7391 - val_accuracy: 0.9281\n",
            "Epoch 24/30\n",
            "40/40 [==============================] - 234s 6s/step - loss: 5.4417e-06 - accuracy: 1.0000 - val_loss: 0.7414 - val_accuracy: 0.9281\n",
            "Epoch 25/30\n",
            "40/40 [==============================] - 258s 6s/step - loss: 5.1620e-06 - accuracy: 1.0000 - val_loss: 0.7452 - val_accuracy: 0.9281\n",
            "Epoch 26/30\n",
            "40/40 [==============================] - 247s 6s/step - loss: 4.8967e-06 - accuracy: 1.0000 - val_loss: 0.7476 - val_accuracy: 0.9281\n",
            "Epoch 27/30\n",
            "40/40 [==============================] - 254s 6s/step - loss: 4.6545e-06 - accuracy: 1.0000 - val_loss: 0.7500 - val_accuracy: 0.9281\n",
            "Epoch 28/30\n",
            "40/40 [==============================] - 238s 6s/step - loss: 4.4345e-06 - accuracy: 1.0000 - val_loss: 0.7527 - val_accuracy: 0.9281\n",
            "Epoch 29/30\n",
            "40/40 [==============================] - 237s 6s/step - loss: 4.2374e-06 - accuracy: 1.0000 - val_loss: 0.7547 - val_accuracy: 0.9281\n",
            "Epoch 30/30\n",
            "40/40 [==============================] - 249s 6s/step - loss: 4.0418e-06 - accuracy: 1.0000 - val_loss: 0.7582 - val_accuracy: 0.9281\n"
          ]
        }
      ]
    },
    {
      "cell_type": "code",
      "source": [
        "import matplotlib.pyplot as plt\n",
        "\n",
        "plt.plot(history.history['accuracy'],color='red',label='train')\n",
        "plt.plot(history.history['val_accuracy'],color='blue',label='validation')\n",
        "plt.legend()\n",
        "plt.show()"
      ],
      "metadata": {
        "colab": {
          "base_uri": "https://localhost:8080/",
          "height": 430
        },
        "id": "jNZvxClUAXEj",
        "outputId": "87fde6a5-34c8-45b4-8c00-1fbd3febfa1b"
      },
      "execution_count": 16,
      "outputs": [
        {
          "output_type": "display_data",
          "data": {
            "text/plain": [
              "<Figure size 640x480 with 1 Axes>"
            ],
            "image/png": "[encoded data removed]"
          },
          "metadata": {}
        }
      ]
    },
    {
      "cell_type": "code",
      "source": [
        "plt.plot(history.history['loss'],color='red',label='train')\n",
        "plt.plot(history.history['val_loss'],color='blue',label='validation')\n",
        "plt.legend()\n",
        "plt.show()"
      ],
      "metadata": {
        "colab": {
          "base_uri": "https://localhost:8080/",
          "height": 430
        },
        "id": "Mvgz00T4Tu3h",
        "outputId": "23ff144a-39ab-4213-e781-808dcbcb5b8f"
      },
      "execution_count": 17,
      "outputs": [
        {
          "output_type": "display_data",
          "data": {
            "text/plain": [
              "<Figure size 640x480 with 1 Axes>"
            ],
            "image/png": "[encoded data removed]"
          },
          "metadata": {}
        }
      ]
    },
    {
      "cell_type": "code",
      "source": [
        "test_datagen = ImageDataGenerator(rescale=1./255)\n",
        "test_data = test_datagen.flow_from_directory(\n",
        "    test_dir,\n",
        "    target_size=(256,256),\n",
        "    batch_size=32,\n",
        "    class_mode='binary'\n",
        ")"
      ],
      "metadata": {
        "colab": {
          "base_uri": "https://localhost:8080/"
        },
        "id": "SurMOxTgT_UH",
        "outputId": "8e154761-4d43-4d82-e30e-525e80aa50c8"
      },
      "execution_count": 18,
      "outputs": [
        {
          "output_type": "stream",
          "name": "stdout",
          "text": [
            "Found 15 images belonging to 2 classes.\n"
          ]
        }
      ]
    },
    {
      "cell_type": "code",
      "source": [
        "#predict the test data\n",
        "predictions = model.predict(test_data)\n",
        "print(predictions)"
      ],
      "metadata": {
        "colab": {
          "base_uri": "https://localhost:8080/"
        },
        "id": "KHaP9CaTUFAx",
        "outputId": "7aceff5a-9f3c-4527-b0d4-7180ed43893d"
      },
      "execution_count": 19,
      "outputs": [
        {
          "output_type": "stream",
          "name": "stdout",
          "text": [
            "1/1 [==============================] - 1s 1s/step\n",
            "[[2.6496770e-04]\n",
            " [2.3470262e-12]\n",
            " [2.9020351e-08]\n",
            " [9.9999964e-01]\n",
            " [9.9999756e-01]\n",
            " [1.0000000e+00]\n",
            " [4.9767586e-06]\n",
            " [7.1644412e-14]\n",
            " [8.2451255e-09]\n",
            " [1.8696192e-14]\n",
            " [2.8219790e-07]\n",
            " [1.9058312e-01]\n",
            " [7.6196337e-01]\n",
            " [4.5799762e-12]\n",
            " [4.7735877e-09]]\n"
          ]
        }
      ]
    },
    {
      "cell_type": "code",
      "source": [
        "len(predictions)"
      ],
      "metadata": {
        "colab": {
          "base_uri": "https://localhost:8080/"
        },
        "id": "MFckGCtEUQeW",
        "outputId": "4863d6e9-1ba8-4d04-9ff7-ba06574d69b4"
      },
      "execution_count": 20,
      "outputs": [
        {
          "output_type": "execute_result",
          "data": {
            "text/plain": [
              "15"
            ]
          },
          "metadata": {},
          "execution_count": 20
        }
      ]
    },
    {
      "cell_type": "code",
      "source": [
        "from sklearn.metrics import confusion_matrix, classification_report\n",
        "\n",
        "# Assuming you have ground truth labels (true_labels) and predicted labels (predictions)\n",
        "true_labels = test_data.classes\n",
        "predicted_labels = (predictions > 0.5).astype(int)  # Adjust the threshold as needed\n",
        "\n",
        "# Calculate confusion matrix\n",
        "cm = confusion_matrix(true_labels, predicted_labels)\n",
        "\n",
        "# Print confusion matrix\n",
        "print(\"Confusion Matrix:\")\n",
        "print(cm)\n",
        "\n",
        "# Print classification report\n",
        "print(\"Classification Report:\")\n",
        "print(classification_report(true_labels, predicted_labels))"
      ],
      "metadata": {
        "colab": {
          "base_uri": "https://localhost:8080/"
        },
        "id": "sxlX1rOhUSyI",
        "outputId": "de00a430-d25c-41e3-9e92-f7e7db2d1d85"
      },
      "execution_count": 21,
      "outputs": [
        {
          "output_type": "stream",
          "name": "stdout",
          "text": [
            "Confusion Matrix:\n",
            "[[7 3]\n",
            " [4 1]]\n",
            "Classification Report:\n",
            "              precision    recall  f1-score   support\n",
            "\n",
            "           0       0.64      0.70      0.67        10\n",
            "           1       0.25      0.20      0.22         5\n",
            "\n",
            "    accuracy                           0.53        15\n",
            "   macro avg       0.44      0.45      0.44        15\n",
            "weighted avg       0.51      0.53      0.52        15\n",
            "\n"
          ]
        }
      ]
    }
  ]
}